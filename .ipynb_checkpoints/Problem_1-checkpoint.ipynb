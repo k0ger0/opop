{
 "cells": [
  {
   "cell_type": "code",
   "execution_count": null,
   "id": "7b7e84f8",
   "metadata": {},
   "outputs": [],
   "source": []
  },
  {
   "cell_type": "markdown",
   "id": "d21e822c",
   "metadata": {},
   "source": [
    "# Теория вероятности. События"
   ]
  },
  {
   "cell_type": "markdown",
   "id": "46d0494f",
   "metadata": {},
   "source": [
    "# Задача 2"
   ]
  },
  {
   "cell_type": "raw",
   "id": "c96ee036",
   "metadata": {},
   "source": [
    "В ящике 5 апельсинов и 4 яблока. Наудачу выбираются 3 фрукта. Какова вероятность, что все три фрукта – апельсины?\n",
    "\n",
    "В интернете полученный аналитически ответ 0.119. Подтверждается ли он эксперементально?"
   ]
  },
  {
   "cell_type": "code",
   "execution_count": 1,
   "id": "b4c260fc",
   "metadata": {},
   "outputs": [],
   "source": [
    "box = ['Orange']*5 + ['Apple']*4"
   ]
  },
  {
   "cell_type": "code",
   "execution_count": 2,
   "id": "4df662a2",
   "metadata": {},
   "outputs": [
    {
     "data": {
      "text/plain": [
       "['Orange',\n",
       " 'Orange',\n",
       " 'Orange',\n",
       " 'Orange',\n",
       " 'Orange',\n",
       " 'Apple',\n",
       " 'Apple',\n",
       " 'Apple',\n",
       " 'Apple']"
      ]
     },
     "execution_count": 2,
     "metadata": {},
     "output_type": "execute_result"
    }
   ],
   "source": [
    "box"
   ]
  },
  {
   "cell_type": "code",
   "execution_count": 3,
   "id": "8a40f6ad",
   "metadata": {},
   "outputs": [],
   "source": [
    "import random"
   ]
  },
  {
   "cell_type": "code",
   "execution_count": 4,
   "id": "2842a236",
   "metadata": {},
   "outputs": [
    {
     "data": {
      "text/plain": [
       "0.03066286416352615"
      ]
     },
     "execution_count": 4,
     "metadata": {},
     "output_type": "execute_result"
    }
   ],
   "source": [
    "random.random()"
   ]
  },
  {
   "cell_type": "code",
   "execution_count": 5,
   "id": "025154c7",
   "metadata": {},
   "outputs": [],
   "source": [
    "# 0< x < 1"
   ]
  },
  {
   "cell_type": "code",
   "execution_count": 6,
   "id": "d792191b",
   "metadata": {},
   "outputs": [
    {
     "data": {
      "text/plain": [
       "26"
      ]
     },
     "execution_count": 6,
     "metadata": {},
     "output_type": "execute_result"
    }
   ],
   "source": [
    "random.randint(1, 100)"
   ]
  },
  {
   "cell_type": "code",
   "execution_count": 7,
   "id": "0e573b0e",
   "metadata": {},
   "outputs": [
    {
     "name": "stdout",
     "output_type": "stream",
     "text": [
      "['Orange', 'Orange', 'Orange', 'Orange', 'Orange', 'Apple', 'Apple', 'Apple', 'Apple']\n"
     ]
    }
   ],
   "source": [
    "print(box)"
   ]
  },
  {
   "cell_type": "code",
   "execution_count": 14,
   "id": "36d1a770",
   "metadata": {},
   "outputs": [],
   "source": [
    "random.shuffle(box)"
   ]
  },
  {
   "cell_type": "code",
   "execution_count": 15,
   "id": "caca77f9",
   "metadata": {},
   "outputs": [
    {
     "name": "stdout",
     "output_type": "stream",
     "text": [
      "['Orange', 'Orange', 'Apple', 'Apple', 'Apple', 'Orange', 'Orange', 'Orange', 'Apple']\n"
     ]
    }
   ],
   "source": [
    "print(box)"
   ]
  },
  {
   "cell_type": "code",
   "execution_count": 16,
   "id": "0b7a31b3",
   "metadata": {},
   "outputs": [],
   "source": [
    "# choice of 3\n"
   ]
  },
  {
   "cell_type": "code",
   "execution_count": 24,
   "id": "098a997a",
   "metadata": {},
   "outputs": [
    {
     "data": {
      "text/plain": [
       "'Apple'"
      ]
     },
     "execution_count": 24,
     "metadata": {},
     "output_type": "execute_result"
    }
   ],
   "source": [
    "random.choice(box)"
   ]
  },
  {
   "cell_type": "code",
   "execution_count": null,
   "id": "6bbdc414",
   "metadata": {},
   "outputs": [],
   "source": []
  },
  {
   "cell_type": "code",
   "execution_count": 25,
   "id": "2383dd68",
   "metadata": {},
   "outputs": [
    {
     "name": "stdout",
     "output_type": "stream",
     "text": [
      "Apple Apple Orange\n",
      "Orange Apple Apple\n",
      "Apple Orange Orange\n",
      "Apple Orange Apple\n",
      "Orange Orange Apple\n",
      "Orange Orange Orange\n",
      "Orange Apple Apple\n",
      "Apple Apple Apple\n",
      "Orange Apple Orange\n",
      "Orange Orange Orange\n"
     ]
    }
   ],
   "source": [
    "for _ in range(10):\n",
    "    random.shuffle(box)\n",
    "    first = random.choice(box)\n",
    "    second = random.choice(box)\n",
    "    third = random.choice(box)\n",
    "    print(first, second, third)"
   ]
  },
  {
   "cell_type": "code",
   "execution_count": 26,
   "id": "9f0dafdb",
   "metadata": {},
   "outputs": [],
   "source": [
    "# 119 cases in 1000 experiments"
   ]
  },
  {
   "cell_type": "code",
   "execution_count": 32,
   "id": "c9c6467d",
   "metadata": {},
   "outputs": [
    {
     "name": "stdout",
     "output_type": "stream",
     "text": [
      "173\n"
     ]
    }
   ],
   "source": [
    "count_3_oranges = 0\n",
    "for _ in range(1000):\n",
    "    random.shuffle(box)\n",
    "    first = random.choice(box)\n",
    "    second = random.choice(box)\n",
    "    third = random.choice(box)\n",
    "    if first==second==third=='Orange':\n",
    "        count_3_oranges += 1\n",
    "print(count_3_oranges)\n",
    "        "
   ]
  },
  {
   "cell_type": "code",
   "execution_count": null,
   "id": "ac4f48f7",
   "metadata": {},
   "outputs": [],
   "source": []
  },
  {
   "cell_type": "code",
   "execution_count": 49,
   "id": "d91d57f8",
   "metadata": {},
   "outputs": [
    {
     "name": "stdout",
     "output_type": "stream",
     "text": [
      "1740\n"
     ]
    }
   ],
   "source": [
    "count_3_oranges = 0\n",
    "for _ in range(10000):\n",
    "    #random.shuffle(box)\n",
    "    first = random.choice(box)\n",
    "    second = random.choice(box)\n",
    "    third = random.choice(box)\n",
    "    if first==second==third=='Orange':\n",
    "        count_3_oranges += 1\n",
    "print(count_3_oranges)"
   ]
  },
  {
   "cell_type": "code",
   "execution_count": 54,
   "id": "68f1694d",
   "metadata": {},
   "outputs": [
    {
     "name": "stdout",
     "output_type": "stream",
     "text": [
      "17133\n"
     ]
    }
   ],
   "source": [
    "count_3_oranges = 0\n",
    "for _ in range(100000):\n",
    "    #random.shuffle(box)\n",
    "    first = random.choice(box)\n",
    "    second = random.choice(box)\n",
    "    third = random.choice(box)\n",
    "    if first==second==third=='Orange':\n",
    "        count_3_oranges += 1\n",
    "print(count_3_oranges)"
   ]
  },
  {
   "cell_type": "code",
   "execution_count": 55,
   "id": "17794847",
   "metadata": {},
   "outputs": [],
   "source": [
    "# Sampled fruit must be removed"
   ]
  },
  {
   "cell_type": "code",
   "execution_count": 59,
   "id": "78d0c56a",
   "metadata": {},
   "outputs": [
    {
     "name": "stdout",
     "output_type": "stream",
     "text": [
      "64837\n"
     ]
    }
   ],
   "source": [
    "box = ['Orange']*5 + ['Apple']*4\n",
    "for _ in range(100000):\n",
    "    box = ['Orange']*5 + ['Apple']*4\n",
    "    random.shuffle(box)\n",
    "    first = box.pop()\n",
    "    second = box.pop()\n",
    "    third = box.pop()\n",
    "    if first==second==third=='Orange':\n",
    "        count_3_oranges += 1\n",
    "print(count_3_oranges)"
   ]
  },
  {
   "cell_type": "code",
   "execution_count": 62,
   "id": "2c5c48c2",
   "metadata": {},
   "outputs": [
    {
     "name": "stdout",
     "output_type": "stream",
     "text": [
      "171517\n"
     ]
    }
   ],
   "source": [
    "box = ['Orange']*5 + ['Apple']*4\n",
    "count_3_oranges = 0\n",
    "for _ in range(1000000):\n",
    "    random.shuffle(box)\n",
    "    first = random.choice(box)\n",
    "    second = random.choice(box)\n",
    "    third = random.choice(box)\n",
    "    if first==second==third=='Orange':\n",
    "        count_3_oranges += 1\n",
    "print(count_3_oranges)"
   ]
  },
  {
   "cell_type": "code",
   "execution_count": null,
   "id": "b60897ba",
   "metadata": {},
   "outputs": [],
   "source": []
  },
  {
   "cell_type": "code",
   "execution_count": 63,
   "id": "865d0976",
   "metadata": {},
   "outputs": [],
   "source": [
    "## Another version of the code"
   ]
  },
  {
   "cell_type": "code",
   "execution_count": 72,
   "id": "ed5ef726",
   "metadata": {},
   "outputs": [
    {
     "data": {
      "text/plain": [
       "2"
      ]
     },
     "execution_count": 72,
     "metadata": {},
     "output_type": "execute_result"
    }
   ],
   "source": [
    "# 0...8\n",
    "random.randint(0,8)"
   ]
  },
  {
   "cell_type": "code",
   "execution_count": 83,
   "id": "ed862c01",
   "metadata": {},
   "outputs": [
    {
     "name": "stdout",
     "output_type": "stream",
     "text": [
      "[2, 8, 7]\n"
     ]
    }
   ],
   "source": [
    "positions = []\n",
    "while len(positions)<3:\n",
    "    pos = random.randint(0,8)\n",
    "    if pos not in positions:\n",
    "        positions.append(pos)\n",
    "print(positions)"
   ]
  },
  {
   "cell_type": "code",
   "execution_count": 84,
   "id": "6c165304",
   "metadata": {},
   "outputs": [
    {
     "name": "stdout",
     "output_type": "stream",
     "text": [
      "118533\n"
     ]
    }
   ],
   "source": [
    "box = ['Orange']*5 + ['Apple']*4\n",
    "count_3_oranges = 0\n",
    "random.shuffle(box)\n",
    "for _ in range(1000000):\n",
    "    positions = []\n",
    "    while len(positions)<3:\n",
    "        pos = random.randint(0,8)\n",
    "        if pos not in positions:\n",
    "            positions.append(pos)\n",
    "    first = box[positions[0]]\n",
    "    second = box[positions[1]]\n",
    "    third = box[positions[2]]\n",
    "    if first==second==third=='Orange':\n",
    "        count_3_oranges += 1\n",
    "print(count_3_oranges)"
   ]
  },
  {
   "cell_type": "code",
   "execution_count": 85,
   "id": "7766277f",
   "metadata": {},
   "outputs": [
    {
     "name": "stdout",
     "output_type": "stream",
     "text": [
      "119598\n"
     ]
    }
   ],
   "source": [
    "box = ['Orange']*5 + ['Apple']*4\n",
    "count_3_oranges = 0\n",
    "random.shuffle(box)\n",
    "for _ in range(1000000):\n",
    "    positions = []\n",
    "    while len(positions)<3:\n",
    "        pos = random.randint(0,8)\n",
    "        if pos not in positions:\n",
    "            positions.append(pos)\n",
    "    first = box[positions[0]]\n",
    "    second = box[positions[1]]\n",
    "    third = box[positions[2]]\n",
    "    if first==second==third=='Orange':\n",
    "        count_3_oranges += 1\n",
    "print(count_3_oranges)"
   ]
  },
  {
   "cell_type": "code",
   "execution_count": 91,
   "id": "5d04d4bb",
   "metadata": {},
   "outputs": [
    {
     "name": "stdout",
     "output_type": "stream",
     "text": [
      "139\n"
     ]
    }
   ],
   "source": [
    "box = ['Orange']*5 + ['Apple']*4\n",
    "count_3_oranges = 0\n",
    "random.shuffle(box)\n",
    "for _ in range(1000):\n",
    "    positions = []\n",
    "    while len(positions)<3:\n",
    "        pos = random.randint(0,8)\n",
    "        if pos not in positions:\n",
    "            positions.append(pos)\n",
    "    first = box[positions[0]]\n",
    "    second = box[positions[1]]\n",
    "    third = box[positions[2]]\n",
    "    if first==second==third=='Orange':\n",
    "        count_3_oranges += 1\n",
    "print(count_3_oranges)"
   ]
  },
  {
   "cell_type": "code",
   "execution_count": 92,
   "id": "8be4d3b9",
   "metadata": {},
   "outputs": [],
   "source": [
    "# Monte Carlo Method"
   ]
  },
  {
   "cell_type": "code",
   "execution_count": null,
   "id": "b506e9b1",
   "metadata": {},
   "outputs": [],
   "source": []
  },
  {
   "cell_type": "code",
   "execution_count": null,
   "id": "79466050",
   "metadata": {},
   "outputs": [],
   "source": []
  },
  {
   "cell_type": "markdown",
   "id": "86b8ee9b",
   "metadata": {},
   "source": [
    "# Задача 3"
   ]
  },
  {
   "cell_type": "raw",
   "id": "c97c5c7b",
   "metadata": {},
   "source": [
    "Мастер, имея 10 деталей, из которых 3 – нестандартных, проверяет детали одну за другой, пока ему не попадется стандартная. Какова вероятность, что он проверит ровно две детали?\n",
    "\n",
    "В интернете полученный аналитически ответ 7/30 или 0.23333. Подтверждается ли он эксперементально?"
   ]
  },
  {
   "cell_type": "code",
   "execution_count": null,
   "id": "e17e3caf",
   "metadata": {},
   "outputs": [],
   "source": []
  },
  {
   "cell_type": "code",
   "execution_count": 94,
   "id": "ab930592",
   "metadata": {},
   "outputs": [],
   "source": [
    "box = ['Standard']*7 + ['Nonstandard']*3\n",
    "random.shuffle(box)"
   ]
  },
  {
   "cell_type": "code",
   "execution_count": 95,
   "id": "52d7b832",
   "metadata": {},
   "outputs": [
    {
     "name": "stdout",
     "output_type": "stream",
     "text": [
      "['Standard', 'Standard', 'Standard', 'Nonstandard', 'Nonstandard', 'Standard', 'Standard', 'Standard', 'Standard', 'Nonstandard']\n"
     ]
    }
   ],
   "source": [
    "print(box)"
   ]
  },
  {
   "cell_type": "code",
   "execution_count": 100,
   "id": "4304ac18",
   "metadata": {},
   "outputs": [
    {
     "name": "stdout",
     "output_type": "stream",
     "text": [
      "Nonstandard Nonstandard\n",
      "Nonstandard Standard\n",
      "Standard Standard\n",
      "Standard Nonstandard\n",
      "Nonstandard Nonstandard\n",
      "Nonstandard Standard\n",
      "Nonstandard Standard\n",
      "Nonstandard Standard\n",
      "Nonstandard Nonstandard\n",
      "Standard Standard\n"
     ]
    }
   ],
   "source": [
    "box = ['Standard']*7 + ['Nonstandard']*3\n",
    "random.shuffle(box)\n",
    "for _ in range(10):\n",
    "    positions = []\n",
    "    while len(positions)<2:\n",
    "        pos = random.randint(0,9)\n",
    "        if pos not in positions:\n",
    "            positions.append(pos)\n",
    "    first = box[positions[0]]\n",
    "    second = box[positions[1]]\n",
    "    print(first, second)"
   ]
  },
  {
   "cell_type": "code",
   "execution_count": 101,
   "id": "939ee009",
   "metadata": {},
   "outputs": [
    {
     "name": "stdout",
     "output_type": "stream",
     "text": [
      "226\n"
     ]
    }
   ],
   "source": [
    "box = ['Standard']*7 + ['Nonstandard']*3\n",
    "random.shuffle(box)\n",
    "counter = 0\n",
    "for _ in range(1000):\n",
    "    positions = []\n",
    "    while len(positions)<2:\n",
    "        pos = random.randint(0,9)\n",
    "        if pos not in positions:\n",
    "            positions.append(pos)\n",
    "    first = box[positions[0]]\n",
    "    second = box[positions[1]]\n",
    "    if first=='Nonstandard' and second=='Standard':\n",
    "        counter += 1\n",
    "print(counter)"
   ]
  },
  {
   "cell_type": "code",
   "execution_count": 102,
   "id": "b90076d1",
   "metadata": {},
   "outputs": [
    {
     "name": "stdout",
     "output_type": "stream",
     "text": [
      "2364\n"
     ]
    }
   ],
   "source": [
    "box = ['Standard']*7 + ['Nonstandard']*3\n",
    "random.shuffle(box)\n",
    "counter = 0\n",
    "for _ in range(10000):\n",
    "    positions = []\n",
    "    while len(positions)<2:\n",
    "        pos = random.randint(0,9)\n",
    "        if pos not in positions:\n",
    "            positions.append(pos)\n",
    "    first = box[positions[0]]\n",
    "    second = box[positions[1]]\n",
    "    if first=='Nonstandard' and second=='Standard':\n",
    "        counter += 1\n",
    "print(counter)"
   ]
  },
  {
   "cell_type": "code",
   "execution_count": 111,
   "id": "3702fa4c",
   "metadata": {},
   "outputs": [
    {
     "name": "stdout",
     "output_type": "stream",
     "text": [
      "23104\n"
     ]
    }
   ],
   "source": [
    "box = ['Standard']*7 + ['Nonstandard']*3\n",
    "random.shuffle(box)\n",
    "counter = 0\n",
    "for _ in range(100000):\n",
    "    positions = []\n",
    "    while len(positions)<2:\n",
    "        pos = random.randint(0,9)\n",
    "        if pos not in positions:\n",
    "            positions.append(pos)\n",
    "    first = box[positions[0]]\n",
    "    if first == 'Standard':\n",
    "        continue\n",
    "    second = box[positions[1]]\n",
    "    if second=='Standard':\n",
    "        counter += 1\n",
    "print(counter)"
   ]
  },
  {
   "cell_type": "code",
   "execution_count": 112,
   "id": "10d572a4",
   "metadata": {},
   "outputs": [],
   "source": [
    "# If first is standard, there will be no Second"
   ]
  },
  {
   "cell_type": "code",
   "execution_count": null,
   "id": "1f0b970a",
   "metadata": {},
   "outputs": [],
   "source": []
  },
  {
   "cell_type": "markdown",
   "id": "7fe4d1b3",
   "metadata": {},
   "source": [
    "# Задача 1"
   ]
  },
  {
   "cell_type": "raw",
   "id": "b2cf7f89",
   "metadata": {},
   "source": [
    "На основании данных портала \"Открытые данные России\" о результатах Химического анализа родника в Нескучном саду https://data.gov.ru/opendata/7708660670-rodnik-neskuchniy-sad средствами библиотеки Pandas сформируйте поле выводов по каждому анализирумомому параметру. Например, по показателю pH получен результат 8.4 единицы pH при нормативе от 6 до 9 единиц pH. Т.о. по данному показателю результат анализа в норме. Для решения задачи необходимо программно \"прочитать и понять\" значение столбца \"Норматив\" и выделенное численное значение сравнить с нормативом согласно логике норматива. Например, 6 >= pH >= 9. В итоговом DataFrame столбец \"Показатель\" сделайте индексным.\n",
    "\n",
    "Загзрузка DataFrame выполняется непосредственно c сайта \"Открытые данные России\" https://data.gov.ru/opendata/7708660670-rodnik-neskuchniy-sad/data-20160608T1215-structure-20160608T1215.csv (см. код ниже)."
   ]
  },
  {
   "cell_type": "code",
   "execution_count": 113,
   "id": "5c17fd2a",
   "metadata": {},
   "outputs": [],
   "source": [
    "import pandas as pd\n",
    "import numpy as np\n",
    "import requests # for web-download\n",
    "import io # for web-download\n",
    "import re # for data processing"
   ]
  },
  {
   "cell_type": "code",
   "execution_count": null,
   "id": "0bcdcafb",
   "metadata": {},
   "outputs": [],
   "source": []
  },
  {
   "cell_type": "code",
   "execution_count": 115,
   "id": "2d44fcd7",
   "metadata": {},
   "outputs": [
    {
     "data": {
      "text/plain": [
       "'\\nheaders={\\n    \\'User-Agent\\': \\'Mozilla/5.0 (X11; Ubuntu; Linux x86_64; rv:52.0) Gecko/20100101 Firefox/52.0\\',\\n}\\ndef get_content(url):\\n    with requests.Session() as req:\\n        req.headers.update(headers)\\n        r = req.get(url).content\\n    return r\\n\\nurl =\"https://data.gov.ru/opendata/7708660670-rodnik-neskuchniy-sad/data-20160608T1215-structure-20160608T1215.csv\"\\ns = get_content(url)\\ndf=pd.read_csv(io.StringIO(s.decode(\\'UTF8\\')))\\n'"
      ]
     },
     "execution_count": 115,
     "metadata": {},
     "output_type": "execute_result"
    }
   ],
   "source": [
    "'''\n",
    "headers={\n",
    "    'User-Agent': 'Mozilla/5.0 (X11; Ubuntu; Linux x86_64; rv:52.0) Gecko/20100101 Firefox/52.0',\n",
    "}\n",
    "def get_content(url):\n",
    "    with requests.Session() as req:\n",
    "        req.headers.update(headers)\n",
    "        r = req.get(url).content\n",
    "    return r\n",
    "\n",
    "url =\"https://data.gov.ru/opendata/7708660670-rodnik-neskuchniy-sad/data-20160608T1215-structure-20160608T1215.csv\"\n",
    "s = get_content(url)\n",
    "df=pd.read_csv(io.StringIO(s.decode('UTF8')))\n",
    "'''"
   ]
  },
  {
   "cell_type": "code",
   "execution_count": 116,
   "id": "57b5fce0",
   "metadata": {},
   "outputs": [],
   "source": [
    "df=pd.read_csv(\"Химический анализ родника в Нескучном саду.csv\", sep=';')"
   ]
  },
  {
   "cell_type": "code",
   "execution_count": 117,
   "id": "7d779e9a",
   "metadata": {},
   "outputs": [
    {
     "data": {
      "text/plain": [
       "(14, 4)"
      ]
     },
     "execution_count": 117,
     "metadata": {},
     "output_type": "execute_result"
    }
   ],
   "source": [
    "df.shape"
   ]
  },
  {
   "cell_type": "code",
   "execution_count": 118,
   "id": "fd973585",
   "metadata": {},
   "outputs": [
    {
     "data": {
      "text/html": [
       "<div>\n",
       "<style scoped>\n",
       "    .dataframe tbody tr th:only-of-type {\n",
       "        vertical-align: middle;\n",
       "    }\n",
       "\n",
       "    .dataframe tbody tr th {\n",
       "        vertical-align: top;\n",
       "    }\n",
       "\n",
       "    .dataframe thead th {\n",
       "        text-align: right;\n",
       "    }\n",
       "</style>\n",
       "<table border=\"1\" class=\"dataframe\">\n",
       "  <thead>\n",
       "    <tr style=\"text-align: right;\">\n",
       "      <th></th>\n",
       "      <th>Показатель</th>\n",
       "      <th>Единица измерений</th>\n",
       "      <th>Результат анализа</th>\n",
       "      <th>Норматив</th>\n",
       "    </tr>\n",
       "  </thead>\n",
       "  <tbody>\n",
       "    <tr>\n",
       "      <th>0</th>\n",
       "      <td>pH</td>\n",
       "      <td>единицы pH</td>\n",
       "      <td>8.4</td>\n",
       "      <td>в пределах 6-9</td>\n",
       "    </tr>\n",
       "    <tr>\n",
       "      <th>1</th>\n",
       "      <td>Запах</td>\n",
       "      <td>баллы</td>\n",
       "      <td>1</td>\n",
       "      <td>не более 2-3</td>\n",
       "    </tr>\n",
       "    <tr>\n",
       "      <th>2</th>\n",
       "      <td>Цветность</td>\n",
       "      <td>градусы</td>\n",
       "      <td>б/цвета</td>\n",
       "      <td>не более 30</td>\n",
       "    </tr>\n",
       "    <tr>\n",
       "      <th>3</th>\n",
       "      <td>Жёсткость</td>\n",
       "      <td>мг-эквл/дм3</td>\n",
       "      <td>9.199999999999999</td>\n",
       "      <td>в пределах 7-10</td>\n",
       "    </tr>\n",
       "    <tr>\n",
       "      <th>4</th>\n",
       "      <td>Аммиак и аммоний-ион (по азоту)</td>\n",
       "      <td>мг/дм3</td>\n",
       "      <td>0.42</td>\n",
       "      <td>не более 1,5</td>\n",
       "    </tr>\n",
       "    <tr>\n",
       "      <th>5</th>\n",
       "      <td>Нитриты (по NO2)</td>\n",
       "      <td>мг/дм3</td>\n",
       "      <td>0.017</td>\n",
       "      <td>не более 3,3</td>\n",
       "    </tr>\n",
       "    <tr>\n",
       "      <th>6</th>\n",
       "      <td>Нитраты (по NO3)</td>\n",
       "      <td>мг/дм3</td>\n",
       "      <td>24</td>\n",
       "      <td>не более 45</td>\n",
       "    </tr>\n",
       "    <tr>\n",
       "      <th>7</th>\n",
       "      <td>Фосфаты (P)</td>\n",
       "      <td>мг/дм3</td>\n",
       "      <td>0.36</td>\n",
       "      <td>не более 3,5</td>\n",
       "    </tr>\n",
       "    <tr>\n",
       "      <th>8</th>\n",
       "      <td>Хлориды (Cl)</td>\n",
       "      <td>мг/дм3</td>\n",
       "      <td>200</td>\n",
       "      <td>не более 350</td>\n",
       "    </tr>\n",
       "    <tr>\n",
       "      <th>9</th>\n",
       "      <td>Сульфаты (SO4)</td>\n",
       "      <td>мг/дм3</td>\n",
       "      <td>189.5</td>\n",
       "      <td>не более 500</td>\n",
       "    </tr>\n",
       "    <tr>\n",
       "      <th>10</th>\n",
       "      <td>Железо (включая хлорное железо) по Fe</td>\n",
       "      <td>мг/дм3</td>\n",
       "      <td>0.019</td>\n",
       "      <td>не более 0,3</td>\n",
       "    </tr>\n",
       "    <tr>\n",
       "      <th>11</th>\n",
       "      <td>Нефть</td>\n",
       "      <td>мг/дм3</td>\n",
       "      <td>0.55</td>\n",
       "      <td>не более 0,3</td>\n",
       "    </tr>\n",
       "    <tr>\n",
       "      <th>12</th>\n",
       "      <td>Общая минерализация (сухой остаток)</td>\n",
       "      <td>мг/дм3</td>\n",
       "      <td>590</td>\n",
       "      <td>не более 1000</td>\n",
       "    </tr>\n",
       "    <tr>\n",
       "      <th>13</th>\n",
       "      <td>Окисляемость перманганатная</td>\n",
       "      <td>мг/дм3</td>\n",
       "      <td>2</td>\n",
       "      <td>не более 0,5</td>\n",
       "    </tr>\n",
       "  </tbody>\n",
       "</table>\n",
       "</div>"
      ],
      "text/plain": [
       "                               Показатель Единица измерений  \\\n",
       "0                                      pH        единицы pH   \n",
       "1                                   Запах             баллы   \n",
       "2                               Цветность           градусы   \n",
       "3                               Жёсткость       мг-эквл/дм3   \n",
       "4         Аммиак и аммоний-ион (по азоту)            мг/дм3   \n",
       "5                        Нитриты (по NO2)            мг/дм3   \n",
       "6                        Нитраты (по NO3)            мг/дм3   \n",
       "7                             Фосфаты (P)            мг/дм3   \n",
       "8                            Хлориды (Cl)            мг/дм3   \n",
       "9                          Сульфаты (SO4)            мг/дм3   \n",
       "10  Железо (включая хлорное железо) по Fe            мг/дм3   \n",
       "11                                  Нефть            мг/дм3   \n",
       "12    Общая минерализация (сухой остаток)            мг/дм3   \n",
       "13            Окисляемость перманганатная            мг/дм3   \n",
       "\n",
       "    Результат анализа         Норматив  \n",
       "0                 8.4   в пределах 6-9  \n",
       "1                   1     не более 2-3  \n",
       "2             б/цвета      не более 30  \n",
       "3   9.199999999999999  в пределах 7-10  \n",
       "4                0.42     не более 1,5  \n",
       "5               0.017     не более 3,3  \n",
       "6                  24      не более 45  \n",
       "7                0.36     не более 3,5  \n",
       "8                 200     не более 350  \n",
       "9               189.5     не более 500  \n",
       "10              0.019     не более 0,3  \n",
       "11               0.55     не более 0,3  \n",
       "12                590    не более 1000  \n",
       "13                  2     не более 0,5  "
      ]
     },
     "execution_count": 118,
     "metadata": {},
     "output_type": "execute_result"
    }
   ],
   "source": [
    "df"
   ]
  },
  {
   "cell_type": "code",
   "execution_count": 119,
   "id": "31896fa5",
   "metadata": {},
   "outputs": [],
   "source": [
    "text1 = 'в пределах 6-9'\n",
    "text2 = 'не более 3,5'"
   ]
  },
  {
   "cell_type": "code",
   "execution_count": 120,
   "id": "8552a761",
   "metadata": {},
   "outputs": [
    {
     "name": "stdout",
     "output_type": "stream",
     "text": [
      "Range\n"
     ]
    }
   ],
   "source": [
    "if 'пределах' in text1:\n",
    "    print('Range')"
   ]
  },
  {
   "cell_type": "code",
   "execution_count": 121,
   "id": "83b87418",
   "metadata": {},
   "outputs": [
    {
     "name": "stdout",
     "output_type": "stream",
     "text": [
      "Less than or equal\n"
     ]
    }
   ],
   "source": [
    "if 'не более' in text2:\n",
    "    print('Less than or equal')"
   ]
  },
  {
   "cell_type": "code",
   "execution_count": null,
   "id": "c3339556",
   "metadata": {},
   "outputs": [],
   "source": []
  },
  {
   "cell_type": "code",
   "execution_count": 122,
   "id": "c834c78f",
   "metadata": {},
   "outputs": [],
   "source": [
    "## Use requalr expressions"
   ]
  },
  {
   "cell_type": "code",
   "execution_count": 123,
   "id": "d0daec42",
   "metadata": {},
   "outputs": [],
   "source": [
    "text = \"quick brown for jumps over the lazy dog\""
   ]
  },
  {
   "cell_type": "code",
   "execution_count": 124,
   "id": "3852025e",
   "metadata": {},
   "outputs": [
    {
     "data": {
      "text/plain": [
       "['q',\n",
       " 'u',\n",
       " 'i',\n",
       " 'c',\n",
       " 'k',\n",
       " 'b',\n",
       " 'r',\n",
       " 'o',\n",
       " 'w',\n",
       " 'n',\n",
       " 'f',\n",
       " 'o',\n",
       " 'r',\n",
       " 'j',\n",
       " 'u',\n",
       " 'm',\n",
       " 'p',\n",
       " 's',\n",
       " 'o',\n",
       " 'v',\n",
       " 'e',\n",
       " 'r',\n",
       " 't',\n",
       " 'h',\n",
       " 'e',\n",
       " 'l',\n",
       " 'a',\n",
       " 'z',\n",
       " 'y',\n",
       " 'd',\n",
       " 'o',\n",
       " 'g']"
      ]
     },
     "execution_count": 124,
     "metadata": {},
     "output_type": "execute_result"
    }
   ],
   "source": [
    "re.findall('\\w', text)"
   ]
  },
  {
   "cell_type": "code",
   "execution_count": 125,
   "id": "ca49ad3c",
   "metadata": {},
   "outputs": [
    {
     "data": {
      "text/plain": [
       "['quick', 'brown', 'for', 'jumps', 'over', 'the', 'lazy', 'dog']"
      ]
     },
     "execution_count": 125,
     "metadata": {},
     "output_type": "execute_result"
    }
   ],
   "source": [
    "re.findall('\\w+', text)"
   ]
  },
  {
   "cell_type": "code",
   "execution_count": 126,
   "id": "17dd5b30",
   "metadata": {},
   "outputs": [
    {
     "data": {
      "text/plain": [
       "['qui', 'bro', 'for', 'jum', 'ove', 'the', 'laz', 'dog']"
      ]
     },
     "execution_count": 126,
     "metadata": {},
     "output_type": "execute_result"
    }
   ],
   "source": [
    "re.findall('\\w{3}', text)"
   ]
  },
  {
   "cell_type": "code",
   "execution_count": 129,
   "id": "1396e30b",
   "metadata": {},
   "outputs": [
    {
     "data": {
      "text/plain": [
       "[' bro', ' for', ' jum', ' ove', ' the', ' laz', ' dog']"
      ]
     },
     "execution_count": 129,
     "metadata": {},
     "output_type": "execute_result"
    }
   ],
   "source": [
    "re.findall(' \\w{3}', text)"
   ]
  },
  {
   "cell_type": "code",
   "execution_count": 130,
   "id": "707a8917",
   "metadata": {},
   "outputs": [],
   "source": [
    "# \\b\\w{3}\\b"
   ]
  },
  {
   "cell_type": "code",
   "execution_count": 131,
   "id": "cfaf5f4b",
   "metadata": {},
   "outputs": [
    {
     "data": {
      "text/plain": [
       "['for', 'the', 'dog']"
      ]
     },
     "execution_count": 131,
     "metadata": {},
     "output_type": "execute_result"
    }
   ],
   "source": [
    "re.findall(r'\\b\\w{3}\\b', text)"
   ]
  },
  {
   "cell_type": "code",
   "execution_count": 132,
   "id": "8af575e9",
   "metadata": {},
   "outputs": [],
   "source": [
    "text = \"123 quick brown for 45 jumps over the 456 lazy dog\""
   ]
  },
  {
   "cell_type": "code",
   "execution_count": 133,
   "id": "e0469056",
   "metadata": {},
   "outputs": [
    {
     "data": {
      "text/plain": [
       "['123', 'for', 'the', '456', 'dog']"
      ]
     },
     "execution_count": 133,
     "metadata": {},
     "output_type": "execute_result"
    }
   ],
   "source": [
    "re.findall(r'\\b\\w{3}\\b', text)"
   ]
  },
  {
   "cell_type": "code",
   "execution_count": 135,
   "id": "385d9f0c",
   "metadata": {},
   "outputs": [
    {
     "data": {
      "text/plain": [
       "['for', 'the', 'dog']"
      ]
     },
     "execution_count": 135,
     "metadata": {},
     "output_type": "execute_result"
    }
   ],
   "source": [
    "re.findall(r'\\b[a-z]{3}\\b', text)"
   ]
  },
  {
   "cell_type": "code",
   "execution_count": 136,
   "id": "a3130d93",
   "metadata": {},
   "outputs": [
    {
     "data": {
      "text/plain": [
       "['123', '456']"
      ]
     },
     "execution_count": 136,
     "metadata": {},
     "output_type": "execute_result"
    }
   ],
   "source": [
    "re.findall(r'\\b[0-9]{3}\\b', text)"
   ]
  },
  {
   "cell_type": "code",
   "execution_count": 137,
   "id": "df98cf73",
   "metadata": {},
   "outputs": [
    {
     "data": {
      "text/plain": [
       "['123', '45', '456']"
      ]
     },
     "execution_count": 137,
     "metadata": {},
     "output_type": "execute_result"
    }
   ],
   "source": [
    "re.findall(r'\\b[0-9]+\\b', text)"
   ]
  },
  {
   "cell_type": "code",
   "execution_count": null,
   "id": "127359b8",
   "metadata": {},
   "outputs": [],
   "source": []
  },
  {
   "cell_type": "code",
   "execution_count": null,
   "id": "32511d0d",
   "metadata": {},
   "outputs": [],
   "source": []
  },
  {
   "cell_type": "code",
   "execution_count": 138,
   "id": "f42df5a0",
   "metadata": {},
   "outputs": [],
   "source": [
    "text1 = 'в пределах 6-9'\n",
    "text2 = 'не более 3,5'"
   ]
  },
  {
   "cell_type": "code",
   "execution_count": 140,
   "id": "84f0f0b7",
   "metadata": {},
   "outputs": [
    {
     "data": {
      "text/plain": [
       "['в', 'пределах', '6', '9']"
      ]
     },
     "execution_count": 140,
     "metadata": {},
     "output_type": "execute_result"
    }
   ],
   "source": [
    "re.findall(r'\\b\\w+\\b', text1)"
   ]
  },
  {
   "cell_type": "code",
   "execution_count": 141,
   "id": "d083a137",
   "metadata": {},
   "outputs": [
    {
     "data": {
      "text/plain": [
       "['не', 'более', '3', '5']"
      ]
     },
     "execution_count": 141,
     "metadata": {},
     "output_type": "execute_result"
    }
   ],
   "source": [
    "re.findall(r'\\b\\w+\\b', text2)"
   ]
  },
  {
   "cell_type": "code",
   "execution_count": null,
   "id": "9596ac51",
   "metadata": {},
   "outputs": [],
   "source": []
  },
  {
   "cell_type": "code",
   "execution_count": 143,
   "id": "75c883d9",
   "metadata": {},
   "outputs": [
    {
     "data": {
      "text/plain": [
       "['6-9']"
      ]
     },
     "execution_count": 143,
     "metadata": {},
     "output_type": "execute_result"
    }
   ],
   "source": [
    "re.findall(r'\\b\\d+-\\d+\\b', text1)"
   ]
  },
  {
   "cell_type": "code",
   "execution_count": 144,
   "id": "3d03258e",
   "metadata": {},
   "outputs": [],
   "source": [
    "text1 = 'в пределах 6-9 и не более 12'"
   ]
  },
  {
   "cell_type": "code",
   "execution_count": 145,
   "id": "62d320d0",
   "metadata": {},
   "outputs": [
    {
     "data": {
      "text/plain": [
       "['6-9']"
      ]
     },
     "execution_count": 145,
     "metadata": {},
     "output_type": "execute_result"
    }
   ],
   "source": [
    "re.findall(r'\\b\\d+-\\d+\\b', text1)"
   ]
  },
  {
   "cell_type": "code",
   "execution_count": 146,
   "id": "327e0021",
   "metadata": {},
   "outputs": [
    {
     "data": {
      "text/plain": [
       "['6-9', '12']"
      ]
     },
     "execution_count": 146,
     "metadata": {},
     "output_type": "execute_result"
    }
   ],
   "source": [
    "re.findall(r'\\b\\d+-*\\d+\\b', text1)"
   ]
  },
  {
   "cell_type": "code",
   "execution_count": 147,
   "id": "1172df9b",
   "metadata": {},
   "outputs": [
    {
     "data": {
      "text/plain": [
       "['6-9', '12']"
      ]
     },
     "execution_count": 147,
     "metadata": {},
     "output_type": "execute_result"
    }
   ],
   "source": [
    "re.findall(r'\\b\\d+-{0,1}\\d+\\b', text1)"
   ]
  },
  {
   "cell_type": "code",
   "execution_count": 148,
   "id": "b0a6c324",
   "metadata": {},
   "outputs": [],
   "source": [
    "text1 = 'в пределах 6-9 и не более 1,25'"
   ]
  },
  {
   "cell_type": "code",
   "execution_count": 149,
   "id": "da61b534",
   "metadata": {},
   "outputs": [
    {
     "data": {
      "text/plain": [
       "['6-9', '25']"
      ]
     },
     "execution_count": 149,
     "metadata": {},
     "output_type": "execute_result"
    }
   ],
   "source": [
    "re.findall(r'\\b\\d+-{0,1}\\d+\\b', text1)"
   ]
  },
  {
   "cell_type": "code",
   "execution_count": 150,
   "id": "d2723dcb",
   "metadata": {},
   "outputs": [
    {
     "data": {
      "text/plain": [
       "['6-9', '1,25']"
      ]
     },
     "execution_count": 150,
     "metadata": {},
     "output_type": "execute_result"
    }
   ],
   "source": [
    "re.findall(r'\\b\\d+[-,]{0,1}\\d+\\b', text1)"
   ]
  },
  {
   "cell_type": "code",
   "execution_count": null,
   "id": "4e7750ed",
   "metadata": {},
   "outputs": [],
   "source": []
  },
  {
   "cell_type": "code",
   "execution_count": null,
   "id": "dcace182",
   "metadata": {},
   "outputs": [],
   "source": []
  },
  {
   "cell_type": "code",
   "execution_count": 151,
   "id": "9bb1a605",
   "metadata": {},
   "outputs": [
    {
     "data": {
      "text/html": [
       "<div>\n",
       "<style scoped>\n",
       "    .dataframe tbody tr th:only-of-type {\n",
       "        vertical-align: middle;\n",
       "    }\n",
       "\n",
       "    .dataframe tbody tr th {\n",
       "        vertical-align: top;\n",
       "    }\n",
       "\n",
       "    .dataframe thead th {\n",
       "        text-align: right;\n",
       "    }\n",
       "</style>\n",
       "<table border=\"1\" class=\"dataframe\">\n",
       "  <thead>\n",
       "    <tr style=\"text-align: right;\">\n",
       "      <th></th>\n",
       "      <th>Показатель</th>\n",
       "      <th>Единица измерений</th>\n",
       "      <th>Результат анализа</th>\n",
       "      <th>Норматив</th>\n",
       "    </tr>\n",
       "  </thead>\n",
       "  <tbody>\n",
       "    <tr>\n",
       "      <th>0</th>\n",
       "      <td>pH</td>\n",
       "      <td>единицы pH</td>\n",
       "      <td>8.4</td>\n",
       "      <td>в пределах 6-9</td>\n",
       "    </tr>\n",
       "    <tr>\n",
       "      <th>1</th>\n",
       "      <td>Запах</td>\n",
       "      <td>баллы</td>\n",
       "      <td>1</td>\n",
       "      <td>не более 2-3</td>\n",
       "    </tr>\n",
       "    <tr>\n",
       "      <th>2</th>\n",
       "      <td>Цветность</td>\n",
       "      <td>градусы</td>\n",
       "      <td>б/цвета</td>\n",
       "      <td>не более 30</td>\n",
       "    </tr>\n",
       "    <tr>\n",
       "      <th>3</th>\n",
       "      <td>Жёсткость</td>\n",
       "      <td>мг-эквл/дм3</td>\n",
       "      <td>9.199999999999999</td>\n",
       "      <td>в пределах 7-10</td>\n",
       "    </tr>\n",
       "    <tr>\n",
       "      <th>4</th>\n",
       "      <td>Аммиак и аммоний-ион (по азоту)</td>\n",
       "      <td>мг/дм3</td>\n",
       "      <td>0.42</td>\n",
       "      <td>не более 1,5</td>\n",
       "    </tr>\n",
       "    <tr>\n",
       "      <th>5</th>\n",
       "      <td>Нитриты (по NO2)</td>\n",
       "      <td>мг/дм3</td>\n",
       "      <td>0.017</td>\n",
       "      <td>не более 3,3</td>\n",
       "    </tr>\n",
       "    <tr>\n",
       "      <th>6</th>\n",
       "      <td>Нитраты (по NO3)</td>\n",
       "      <td>мг/дм3</td>\n",
       "      <td>24</td>\n",
       "      <td>не более 45</td>\n",
       "    </tr>\n",
       "    <tr>\n",
       "      <th>7</th>\n",
       "      <td>Фосфаты (P)</td>\n",
       "      <td>мг/дм3</td>\n",
       "      <td>0.36</td>\n",
       "      <td>не более 3,5</td>\n",
       "    </tr>\n",
       "    <tr>\n",
       "      <th>8</th>\n",
       "      <td>Хлориды (Cl)</td>\n",
       "      <td>мг/дм3</td>\n",
       "      <td>200</td>\n",
       "      <td>не более 350</td>\n",
       "    </tr>\n",
       "    <tr>\n",
       "      <th>9</th>\n",
       "      <td>Сульфаты (SO4)</td>\n",
       "      <td>мг/дм3</td>\n",
       "      <td>189.5</td>\n",
       "      <td>не более 500</td>\n",
       "    </tr>\n",
       "    <tr>\n",
       "      <th>10</th>\n",
       "      <td>Железо (включая хлорное железо) по Fe</td>\n",
       "      <td>мг/дм3</td>\n",
       "      <td>0.019</td>\n",
       "      <td>не более 0,3</td>\n",
       "    </tr>\n",
       "    <tr>\n",
       "      <th>11</th>\n",
       "      <td>Нефть</td>\n",
       "      <td>мг/дм3</td>\n",
       "      <td>0.55</td>\n",
       "      <td>не более 0,3</td>\n",
       "    </tr>\n",
       "    <tr>\n",
       "      <th>12</th>\n",
       "      <td>Общая минерализация (сухой остаток)</td>\n",
       "      <td>мг/дм3</td>\n",
       "      <td>590</td>\n",
       "      <td>не более 1000</td>\n",
       "    </tr>\n",
       "    <tr>\n",
       "      <th>13</th>\n",
       "      <td>Окисляемость перманганатная</td>\n",
       "      <td>мг/дм3</td>\n",
       "      <td>2</td>\n",
       "      <td>не более 0,5</td>\n",
       "    </tr>\n",
       "  </tbody>\n",
       "</table>\n",
       "</div>"
      ],
      "text/plain": [
       "                               Показатель Единица измерений  \\\n",
       "0                                      pH        единицы pH   \n",
       "1                                   Запах             баллы   \n",
       "2                               Цветность           градусы   \n",
       "3                               Жёсткость       мг-эквл/дм3   \n",
       "4         Аммиак и аммоний-ион (по азоту)            мг/дм3   \n",
       "5                        Нитриты (по NO2)            мг/дм3   \n",
       "6                        Нитраты (по NO3)            мг/дм3   \n",
       "7                             Фосфаты (P)            мг/дм3   \n",
       "8                            Хлориды (Cl)            мг/дм3   \n",
       "9                          Сульфаты (SO4)            мг/дм3   \n",
       "10  Железо (включая хлорное железо) по Fe            мг/дм3   \n",
       "11                                  Нефть            мг/дм3   \n",
       "12    Общая минерализация (сухой остаток)            мг/дм3   \n",
       "13            Окисляемость перманганатная            мг/дм3   \n",
       "\n",
       "    Результат анализа         Норматив  \n",
       "0                 8.4   в пределах 6-9  \n",
       "1                   1     не более 2-3  \n",
       "2             б/цвета      не более 30  \n",
       "3   9.199999999999999  в пределах 7-10  \n",
       "4                0.42     не более 1,5  \n",
       "5               0.017     не более 3,3  \n",
       "6                  24      не более 45  \n",
       "7                0.36     не более 3,5  \n",
       "8                 200     не более 350  \n",
       "9               189.5     не более 500  \n",
       "10              0.019     не более 0,3  \n",
       "11               0.55     не более 0,3  \n",
       "12                590    не более 1000  \n",
       "13                  2     не более 0,5  "
      ]
     },
     "execution_count": 151,
     "metadata": {},
     "output_type": "execute_result"
    }
   ],
   "source": [
    "df"
   ]
  },
  {
   "cell_type": "code",
   "execution_count": null,
   "id": "79c443d2",
   "metadata": {},
   "outputs": [],
   "source": []
  },
  {
   "cell_type": "code",
   "execution_count": 153,
   "id": "00790076",
   "metadata": {},
   "outputs": [
    {
     "name": "stdout",
     "output_type": "stream",
     "text": [
      "в пределах 6-9\n",
      "не более 2-3\n",
      "не более 30\n",
      "в пределах 7-10\n",
      "не более 1,5\n",
      "не более 3,3\n",
      "не более 45\n",
      "не более 3,5\n",
      "не более 350\n",
      "не более 500\n",
      "не более 0,3\n",
      "не более 0,3\n",
      "не более 1000\n",
      "не более 0,5\n"
     ]
    }
   ],
   "source": [
    "for i in range(len(df)):\n",
    "    print(df['Норматив'].iloc[i])"
   ]
  },
  {
   "cell_type": "code",
   "execution_count": 154,
   "id": "2f04fc06",
   "metadata": {},
   "outputs": [
    {
     "name": "stdout",
     "output_type": "stream",
     "text": [
      "['пределах']\n",
      "['более']\n",
      "['более']\n",
      "['пределах']\n",
      "['более']\n",
      "['более']\n",
      "['более']\n",
      "['более']\n",
      "['более', '350']\n",
      "['более', '500']\n",
      "['более']\n",
      "['более']\n",
      "['более', '1000']\n",
      "['более']\n"
     ]
    }
   ],
   "source": [
    "for i in range(len(df)):\n",
    "    text = df['Норматив'].iloc[i]\n",
    "    print(re.findall(r'\\b\\w{3,10}\\b', text))"
   ]
  },
  {
   "cell_type": "code",
   "execution_count": 155,
   "id": "d4b4d011",
   "metadata": {},
   "outputs": [
    {
     "name": "stdout",
     "output_type": "stream",
     "text": [
      "Range\n",
      "Limit\n",
      "Limit\n",
      "Range\n",
      "Limit\n",
      "Limit\n",
      "Limit\n",
      "Limit\n",
      "Limit\n",
      "Limit\n",
      "Limit\n",
      "Limit\n",
      "Limit\n",
      "Limit\n"
     ]
    }
   ],
   "source": [
    "for i in range(len(df)):\n",
    "    text = df['Норматив'].iloc[i]\n",
    "    result = re.findall(r'\\b\\w{3,10}\\b', text)[0]\n",
    "    if result == 'пределах':\n",
    "        print('Range')\n",
    "    elif result == 'более':\n",
    "        print('Limit')"
   ]
  },
  {
   "cell_type": "code",
   "execution_count": 163,
   "id": "514dcd98",
   "metadata": {},
   "outputs": [
    {
     "name": "stdout",
     "output_type": "stream",
     "text": [
      "Range 6 9\n"
     ]
    },
    {
     "ename": "ValueError",
     "evalue": "could not convert string to float: '2-3'",
     "output_type": "error",
     "traceback": [
      "\u001b[0;31m---------------------------------------------------------------------------\u001b[0m",
      "\u001b[0;31mValueError\u001b[0m                                Traceback (most recent call last)",
      "Input \u001b[0;32mIn [163]\u001b[0m, in \u001b[0;36m<cell line: 1>\u001b[0;34m()\u001b[0m\n\u001b[1;32m      7\u001b[0m \u001b[38;5;28;01melif\u001b[39;00m result \u001b[38;5;241m==\u001b[39m \u001b[38;5;124m'\u001b[39m\u001b[38;5;124mболее\u001b[39m\u001b[38;5;124m'\u001b[39m:\n\u001b[1;32m      8\u001b[0m     limit \u001b[38;5;241m=\u001b[39m re\u001b[38;5;241m.\u001b[39mfindall(\u001b[38;5;124mr\u001b[39m\u001b[38;5;124m'\u001b[39m\u001b[38;5;124m\\\u001b[39m\u001b[38;5;124md+[-,]\u001b[39m\u001b[38;5;124m{\u001b[39m\u001b[38;5;124m0,1}\u001b[39m\u001b[38;5;124m\\\u001b[39m\u001b[38;5;124md+\u001b[39m\u001b[38;5;124m'\u001b[39m, text)[\u001b[38;5;241m0\u001b[39m]\n\u001b[0;32m----> 9\u001b[0m     \u001b[38;5;28mprint\u001b[39m(\u001b[38;5;124m'\u001b[39m\u001b[38;5;124mLimit\u001b[39m\u001b[38;5;124m'\u001b[39m, \u001b[38;5;28;43mfloat\u001b[39;49m\u001b[43m(\u001b[49m\u001b[43mlimit\u001b[49m\u001b[43m)\u001b[49m)\n",
      "\u001b[0;31mValueError\u001b[0m: could not convert string to float: '2-3'"
     ]
    }
   ],
   "source": [
    "for i in range(len(df)):\n",
    "    text = df['Норматив'].iloc[i]\n",
    "    result = re.findall(r'\\b\\w{3,10}\\b', text)[0]\n",
    "    if result == 'пределах':\n",
    "        low, high = re.findall(r'[0-9]+', text)\n",
    "        print('Range', low, high)\n",
    "    elif result == 'более':\n",
    "        limit = re.findall(r'\\d+[-,]{0,1}\\d+', text)[0]\n",
    "        print('Limit', float(limit))"
   ]
  },
  {
   "cell_type": "code",
   "execution_count": 164,
   "id": "b69c44b6",
   "metadata": {},
   "outputs": [
    {
     "ename": "ValueError",
     "evalue": "could not convert string to float: '0,3'",
     "output_type": "error",
     "traceback": [
      "\u001b[0;31m---------------------------------------------------------------------------\u001b[0m",
      "\u001b[0;31mValueError\u001b[0m                                Traceback (most recent call last)",
      "Input \u001b[0;32mIn [164]\u001b[0m, in \u001b[0;36m<cell line: 1>\u001b[0;34m()\u001b[0m\n\u001b[0;32m----> 1\u001b[0m \u001b[38;5;28;43mfloat\u001b[39;49m\u001b[43m(\u001b[49m\u001b[38;5;124;43m'\u001b[39;49m\u001b[38;5;124;43m0,3\u001b[39;49m\u001b[38;5;124;43m'\u001b[39;49m\u001b[43m)\u001b[49m\n",
      "\u001b[0;31mValueError\u001b[0m: could not convert string to float: '0,3'"
     ]
    }
   ],
   "source": [
    "float('0,3')"
   ]
  },
  {
   "cell_type": "code",
   "execution_count": 165,
   "id": "c63b431c",
   "metadata": {},
   "outputs": [],
   "source": [
    "## Get rid of - or ,"
   ]
  },
  {
   "cell_type": "code",
   "execution_count": 170,
   "id": "8b82e762",
   "metadata": {},
   "outputs": [
    {
     "name": "stdout",
     "output_type": "stream",
     "text": [
      "Range 6.0 9.0\n",
      "Limit 2.3\n",
      "Limit 30.0\n",
      "Range 7.0 10.0\n",
      "Limit 1.5\n",
      "Limit 3.3\n",
      "Limit 45.0\n",
      "Limit 3.5\n",
      "Limit 350.0\n",
      "Limit 500.0\n",
      "Limit 0.3\n",
      "Limit 0.3\n",
      "Limit 1000.0\n",
      "Limit 0.5\n"
     ]
    }
   ],
   "source": [
    "for i in range(len(df)):\n",
    "    text = df['Норматив'].iloc[i]\n",
    "    result = re.findall(r'\\b\\w{3,10}\\b', text)[0]\n",
    "    if result == 'пределах':\n",
    "        low, high = re.findall(r'[0-9]+', text)\n",
    "        print('Range', float(low), float(high))\n",
    "    elif result == 'более':\n",
    "        limit = re.findall(r'[0-9]+', text)\n",
    "        if len(limit)==2:\n",
    "            limit = float(limit[0]+'.'+limit[1])\n",
    "        else:\n",
    "            limit = float(limit[0])\n",
    "        print('Limit', limit)"
   ]
  },
  {
   "cell_type": "code",
   "execution_count": null,
   "id": "8a91af9e",
   "metadata": {},
   "outputs": [],
   "source": []
  },
  {
   "cell_type": "code",
   "execution_count": 171,
   "id": "f47732c0",
   "metadata": {},
   "outputs": [
    {
     "data": {
      "text/html": [
       "<div>\n",
       "<style scoped>\n",
       "    .dataframe tbody tr th:only-of-type {\n",
       "        vertical-align: middle;\n",
       "    }\n",
       "\n",
       "    .dataframe tbody tr th {\n",
       "        vertical-align: top;\n",
       "    }\n",
       "\n",
       "    .dataframe thead th {\n",
       "        text-align: right;\n",
       "    }\n",
       "</style>\n",
       "<table border=\"1\" class=\"dataframe\">\n",
       "  <thead>\n",
       "    <tr style=\"text-align: right;\">\n",
       "      <th></th>\n",
       "      <th>Показатель</th>\n",
       "      <th>Единица измерений</th>\n",
       "      <th>Результат анализа</th>\n",
       "      <th>Норматив</th>\n",
       "    </tr>\n",
       "  </thead>\n",
       "  <tbody>\n",
       "    <tr>\n",
       "      <th>0</th>\n",
       "      <td>pH</td>\n",
       "      <td>единицы pH</td>\n",
       "      <td>8.4</td>\n",
       "      <td>в пределах 6-9</td>\n",
       "    </tr>\n",
       "    <tr>\n",
       "      <th>1</th>\n",
       "      <td>Запах</td>\n",
       "      <td>баллы</td>\n",
       "      <td>1</td>\n",
       "      <td>не более 2-3</td>\n",
       "    </tr>\n",
       "    <tr>\n",
       "      <th>2</th>\n",
       "      <td>Цветность</td>\n",
       "      <td>градусы</td>\n",
       "      <td>б/цвета</td>\n",
       "      <td>не более 30</td>\n",
       "    </tr>\n",
       "    <tr>\n",
       "      <th>3</th>\n",
       "      <td>Жёсткость</td>\n",
       "      <td>мг-эквл/дм3</td>\n",
       "      <td>9.199999999999999</td>\n",
       "      <td>в пределах 7-10</td>\n",
       "    </tr>\n",
       "    <tr>\n",
       "      <th>4</th>\n",
       "      <td>Аммиак и аммоний-ион (по азоту)</td>\n",
       "      <td>мг/дм3</td>\n",
       "      <td>0.42</td>\n",
       "      <td>не более 1,5</td>\n",
       "    </tr>\n",
       "    <tr>\n",
       "      <th>5</th>\n",
       "      <td>Нитриты (по NO2)</td>\n",
       "      <td>мг/дм3</td>\n",
       "      <td>0.017</td>\n",
       "      <td>не более 3,3</td>\n",
       "    </tr>\n",
       "    <tr>\n",
       "      <th>6</th>\n",
       "      <td>Нитраты (по NO3)</td>\n",
       "      <td>мг/дм3</td>\n",
       "      <td>24</td>\n",
       "      <td>не более 45</td>\n",
       "    </tr>\n",
       "    <tr>\n",
       "      <th>7</th>\n",
       "      <td>Фосфаты (P)</td>\n",
       "      <td>мг/дм3</td>\n",
       "      <td>0.36</td>\n",
       "      <td>не более 3,5</td>\n",
       "    </tr>\n",
       "    <tr>\n",
       "      <th>8</th>\n",
       "      <td>Хлориды (Cl)</td>\n",
       "      <td>мг/дм3</td>\n",
       "      <td>200</td>\n",
       "      <td>не более 350</td>\n",
       "    </tr>\n",
       "    <tr>\n",
       "      <th>9</th>\n",
       "      <td>Сульфаты (SO4)</td>\n",
       "      <td>мг/дм3</td>\n",
       "      <td>189.5</td>\n",
       "      <td>не более 500</td>\n",
       "    </tr>\n",
       "    <tr>\n",
       "      <th>10</th>\n",
       "      <td>Железо (включая хлорное железо) по Fe</td>\n",
       "      <td>мг/дм3</td>\n",
       "      <td>0.019</td>\n",
       "      <td>не более 0,3</td>\n",
       "    </tr>\n",
       "    <tr>\n",
       "      <th>11</th>\n",
       "      <td>Нефть</td>\n",
       "      <td>мг/дм3</td>\n",
       "      <td>0.55</td>\n",
       "      <td>не более 0,3</td>\n",
       "    </tr>\n",
       "    <tr>\n",
       "      <th>12</th>\n",
       "      <td>Общая минерализация (сухой остаток)</td>\n",
       "      <td>мг/дм3</td>\n",
       "      <td>590</td>\n",
       "      <td>не более 1000</td>\n",
       "    </tr>\n",
       "    <tr>\n",
       "      <th>13</th>\n",
       "      <td>Окисляемость перманганатная</td>\n",
       "      <td>мг/дм3</td>\n",
       "      <td>2</td>\n",
       "      <td>не более 0,5</td>\n",
       "    </tr>\n",
       "  </tbody>\n",
       "</table>\n",
       "</div>"
      ],
      "text/plain": [
       "                               Показатель Единица измерений  \\\n",
       "0                                      pH        единицы pH   \n",
       "1                                   Запах             баллы   \n",
       "2                               Цветность           градусы   \n",
       "3                               Жёсткость       мг-эквл/дм3   \n",
       "4         Аммиак и аммоний-ион (по азоту)            мг/дм3   \n",
       "5                        Нитриты (по NO2)            мг/дм3   \n",
       "6                        Нитраты (по NO3)            мг/дм3   \n",
       "7                             Фосфаты (P)            мг/дм3   \n",
       "8                            Хлориды (Cl)            мг/дм3   \n",
       "9                          Сульфаты (SO4)            мг/дм3   \n",
       "10  Железо (включая хлорное железо) по Fe            мг/дм3   \n",
       "11                                  Нефть            мг/дм3   \n",
       "12    Общая минерализация (сухой остаток)            мг/дм3   \n",
       "13            Окисляемость перманганатная            мг/дм3   \n",
       "\n",
       "    Результат анализа         Норматив  \n",
       "0                 8.4   в пределах 6-9  \n",
       "1                   1     не более 2-3  \n",
       "2             б/цвета      не более 30  \n",
       "3   9.199999999999999  в пределах 7-10  \n",
       "4                0.42     не более 1,5  \n",
       "5               0.017     не более 3,3  \n",
       "6                  24      не более 45  \n",
       "7                0.36     не более 3,5  \n",
       "8                 200     не более 350  \n",
       "9               189.5     не более 500  \n",
       "10              0.019     не более 0,3  \n",
       "11               0.55     не более 0,3  \n",
       "12                590    не более 1000  \n",
       "13                  2     не более 0,5  "
      ]
     },
     "execution_count": 171,
     "metadata": {},
     "output_type": "execute_result"
    }
   ],
   "source": [
    "df"
   ]
  },
  {
   "cell_type": "code",
   "execution_count": 173,
   "id": "9c526e39",
   "metadata": {},
   "outputs": [
    {
     "name": "stdout",
     "output_type": "stream",
     "text": [
      "<class 'pandas.core.frame.DataFrame'>\n",
      "RangeIndex: 14 entries, 0 to 13\n",
      "Data columns (total 4 columns):\n",
      " #   Column             Non-Null Count  Dtype \n",
      "---  ------             --------------  ----- \n",
      " 0   Показатель         14 non-null     object\n",
      " 1   Единица измерений  14 non-null     object\n",
      " 2   Результат анализа  14 non-null     object\n",
      " 3   Норматив           14 non-null     object\n",
      "dtypes: object(4)\n",
      "memory usage: 576.0+ bytes\n"
     ]
    }
   ],
   "source": [
    "df.info()"
   ]
  },
  {
   "cell_type": "code",
   "execution_count": null,
   "id": "10771bce",
   "metadata": {},
   "outputs": [],
   "source": []
  },
  {
   "cell_type": "code",
   "execution_count": 174,
   "id": "012ea971",
   "metadata": {},
   "outputs": [],
   "source": [
    "# Convert Результат анализа into float number"
   ]
  },
  {
   "cell_type": "code",
   "execution_count": 176,
   "id": "2a41420c",
   "metadata": {},
   "outputs": [
    {
     "name": "stdout",
     "output_type": "stream",
     "text": [
      "8.4 False\n",
      "1 True\n",
      "б/цвета False\n",
      "9.199999999999999 False\n",
      "0.42 False\n",
      "0.017 False\n",
      "24 True\n",
      "0.36 False\n",
      "200 True\n",
      "189.5 False\n",
      "0.019 False\n",
      "0.55 False\n",
      "590 True\n",
      "2 True\n"
     ]
    }
   ],
   "source": [
    "for i in range(len(df)):\n",
    "    text = df['Результат анализа'].iloc[i]\n",
    "    print(text, text.isnumeric())"
   ]
  },
  {
   "cell_type": "code",
   "execution_count": 177,
   "id": "d5156988",
   "metadata": {},
   "outputs": [
    {
     "data": {
      "text/plain": [
       "0.017"
      ]
     },
     "execution_count": 177,
     "metadata": {},
     "output_type": "execute_result"
    }
   ],
   "source": [
    "float('0.017')"
   ]
  },
  {
   "cell_type": "code",
   "execution_count": 178,
   "id": "54f1d621",
   "metadata": {},
   "outputs": [],
   "source": [
    "# digits and dots"
   ]
  },
  {
   "cell_type": "code",
   "execution_count": 188,
   "id": "71e55cf0",
   "metadata": {},
   "outputs": [
    {
     "name": "stdout",
     "output_type": "stream",
     "text": [
      "8.4\n",
      "1.0\n",
      "No number\n",
      "9.2\n",
      "0.42\n",
      "0.017\n",
      "24.0\n",
      "0.36\n",
      "200.0\n",
      "189.5\n",
      "0.019\n",
      "0.55\n",
      "590.0\n",
      "2.0\n"
     ]
    }
   ],
   "source": [
    "for i in range(len(df)):\n",
    "    text = df['Результат анализа'].iloc[i]\n",
    "    res = re.findall(r'[0-9]+[\\.]{0,1}[0-9]*', text)\n",
    "    if not res:\n",
    "        print('No number')\n",
    "    else:\n",
    "        print(float(res[0]))"
   ]
  },
  {
   "cell_type": "code",
   "execution_count": null,
   "id": "ca94c574",
   "metadata": {},
   "outputs": [],
   "source": []
  },
  {
   "cell_type": "code",
   "execution_count": 189,
   "id": "65a4564f",
   "metadata": {},
   "outputs": [],
   "source": [
    "### Put it all together"
   ]
  },
  {
   "cell_type": "code",
   "execution_count": 190,
   "id": "0e559883",
   "metadata": {},
   "outputs": [
    {
     "name": "stdout",
     "output_type": "stream",
     "text": [
      "8.4 Range 6.0 9.0\n",
      "1.0 Limit 2.3\n",
      "0 Limit 30.0\n",
      "9.2 Range 7.0 10.0\n",
      "0.42 Limit 1.5\n",
      "0.017 Limit 3.3\n",
      "24.0 Limit 45.0\n",
      "0.36 Limit 3.5\n",
      "200.0 Limit 350.0\n",
      "189.5 Limit 500.0\n",
      "0.019 Limit 0.3\n",
      "0.55 Limit 0.3\n",
      "590.0 Limit 1000.0\n",
      "2.0 Limit 0.5\n"
     ]
    }
   ],
   "source": [
    "for i in range(len(df)):\n",
    "    ##\n",
    "    text = df['Результат анализа'].iloc[i]\n",
    "    res = re.findall(r'[0-9]+[\\.]{0,1}[0-9]*', text)\n",
    "    if not res:\n",
    "        measured = 0\n",
    "    else:\n",
    "        measured = float(res[0])\n",
    "    ##\n",
    "    text = df['Норматив'].iloc[i]\n",
    "    result = re.findall(r'\\b\\w{3,10}\\b', text)[0]\n",
    "    if result == 'пределах':\n",
    "        low, high = re.findall(r'[0-9]+', text)\n",
    "        print(measured, 'Range', float(low), float(high))\n",
    "    elif result == 'более':\n",
    "        limit = re.findall(r'[0-9]+', text)\n",
    "        if len(limit)==2:\n",
    "            limit = float(limit[0]+'.'+limit[1])\n",
    "        else:\n",
    "            limit = float(limit[0])\n",
    "        print(measured, 'Limit', limit)"
   ]
  },
  {
   "cell_type": "code",
   "execution_count": null,
   "id": "f4bb3fa3",
   "metadata": {},
   "outputs": [],
   "source": []
  },
  {
   "cell_type": "code",
   "execution_count": 191,
   "id": "ae4c15a6",
   "metadata": {},
   "outputs": [],
   "source": [
    "## Valid or Invalid ?"
   ]
  },
  {
   "cell_type": "code",
   "execution_count": 193,
   "id": "2640ac53",
   "metadata": {},
   "outputs": [
    {
     "name": "stdout",
     "output_type": "stream",
     "text": [
      "8.4 Range 6.0 9.0 Valid\n",
      "1.0 Limit 2.3 Valid\n",
      "0 Limit 30.0 Valid\n",
      "9.2 Range 7.0 10.0 Valid\n",
      "0.42 Limit 1.5 Valid\n",
      "0.017 Limit 3.3 Valid\n",
      "24.0 Limit 45.0 Valid\n",
      "0.36 Limit 3.5 Valid\n",
      "200.0 Limit 350.0 Valid\n",
      "189.5 Limit 500.0 Valid\n",
      "0.019 Limit 0.3 Valid\n",
      "590.0 Limit 1000.0 Valid\n"
     ]
    }
   ],
   "source": [
    "for i in range(len(df)):\n",
    "    ##\n",
    "    text = df['Результат анализа'].iloc[i]\n",
    "    res = re.findall(r'[0-9]+[\\.]{0,1}[0-9]*', text)\n",
    "    if not res:\n",
    "        measured = 0\n",
    "    else:\n",
    "        measured = float(res[0])\n",
    "    ##\n",
    "    text = df['Норматив'].iloc[i]\n",
    "    result = re.findall(r'\\b\\w{3,10}\\b', text)[0]\n",
    "    if result == 'пределах':\n",
    "        low, high = re.findall(r'[0-9]+', text)\n",
    "        #print(measured, 'Range', float(low), float(high))\n",
    "        if float(low) <= measured <= float(high):\n",
    "            print(measured, 'Range', float(low), float(high), 'Valid')\n",
    "            \n",
    "    elif result == 'более':\n",
    "        limit = re.findall(r'[0-9]+', text)\n",
    "        if len(limit)==2:\n",
    "            limit = float(limit[0]+'.'+limit[1])\n",
    "        else:\n",
    "            limit = float(limit[0])\n",
    "        #print(measured, 'Limit', limit)\n",
    "        if measured <= limit:\n",
    "            print(measured, 'Limit', limit, 'Valid')"
   ]
  },
  {
   "cell_type": "code",
   "execution_count": 194,
   "id": "8f9dbe24",
   "metadata": {},
   "outputs": [],
   "source": [
    "## A new column in DF"
   ]
  },
  {
   "cell_type": "code",
   "execution_count": 195,
   "id": "ea052c35",
   "metadata": {},
   "outputs": [],
   "source": [
    "df['Соответствие нормативу'] = ['-']*len(df)"
   ]
  },
  {
   "cell_type": "code",
   "execution_count": 196,
   "id": "606292d4",
   "metadata": {},
   "outputs": [],
   "source": [
    "for i in range(len(df)):\n",
    "    ##\n",
    "    text = df['Результат анализа'].iloc[i]\n",
    "    res = re.findall(r'[0-9]+[\\.]{0,1}[0-9]*', text)\n",
    "    if not res:\n",
    "        measured = 0\n",
    "    else:\n",
    "        measured = float(res[0])\n",
    "    ##\n",
    "    text = df['Норматив'].iloc[i]\n",
    "    result = re.findall(r'\\b\\w{3,10}\\b', text)[0]\n",
    "    if result == 'пределах':\n",
    "        low, high = re.findall(r'[0-9]+', text)\n",
    "        #print(measured, 'Range', float(low), float(high))\n",
    "        if float(low) <= measured <= float(high):\n",
    "            #print(measured, 'Range', float(low), float(high), 'Valid')\n",
    "            df['Соответствие нормативу'].iloc[i] = 'Соответствует'\n",
    "    elif result == 'более':\n",
    "        limit = re.findall(r'[0-9]+', text)\n",
    "        if len(limit)==2:\n",
    "            limit = float(limit[0]+'.'+limit[1])\n",
    "        else:\n",
    "            limit = float(limit[0])\n",
    "        #print(measured, 'Limit', limit)\n",
    "        if measured <= limit:\n",
    "            #print(measured, 'Limit', limit, 'Valid')\n",
    "            df['Соответствие нормативу'].iloc[i] = 'Соответствует'"
   ]
  },
  {
   "cell_type": "code",
   "execution_count": 197,
   "id": "3ca6da29",
   "metadata": {},
   "outputs": [
    {
     "data": {
      "text/html": [
       "<div>\n",
       "<style scoped>\n",
       "    .dataframe tbody tr th:only-of-type {\n",
       "        vertical-align: middle;\n",
       "    }\n",
       "\n",
       "    .dataframe tbody tr th {\n",
       "        vertical-align: top;\n",
       "    }\n",
       "\n",
       "    .dataframe thead th {\n",
       "        text-align: right;\n",
       "    }\n",
       "</style>\n",
       "<table border=\"1\" class=\"dataframe\">\n",
       "  <thead>\n",
       "    <tr style=\"text-align: right;\">\n",
       "      <th></th>\n",
       "      <th>Показатель</th>\n",
       "      <th>Единица измерений</th>\n",
       "      <th>Результат анализа</th>\n",
       "      <th>Норматив</th>\n",
       "      <th>Соответствие нормативу</th>\n",
       "    </tr>\n",
       "  </thead>\n",
       "  <tbody>\n",
       "    <tr>\n",
       "      <th>0</th>\n",
       "      <td>pH</td>\n",
       "      <td>единицы pH</td>\n",
       "      <td>8.4</td>\n",
       "      <td>в пределах 6-9</td>\n",
       "      <td>Соответствует</td>\n",
       "    </tr>\n",
       "    <tr>\n",
       "      <th>1</th>\n",
       "      <td>Запах</td>\n",
       "      <td>баллы</td>\n",
       "      <td>1</td>\n",
       "      <td>не более 2-3</td>\n",
       "      <td>Соответствует</td>\n",
       "    </tr>\n",
       "    <tr>\n",
       "      <th>2</th>\n",
       "      <td>Цветность</td>\n",
       "      <td>градусы</td>\n",
       "      <td>б/цвета</td>\n",
       "      <td>не более 30</td>\n",
       "      <td>Соответствует</td>\n",
       "    </tr>\n",
       "    <tr>\n",
       "      <th>3</th>\n",
       "      <td>Жёсткость</td>\n",
       "      <td>мг-эквл/дм3</td>\n",
       "      <td>9.199999999999999</td>\n",
       "      <td>в пределах 7-10</td>\n",
       "      <td>Соответствует</td>\n",
       "    </tr>\n",
       "    <tr>\n",
       "      <th>4</th>\n",
       "      <td>Аммиак и аммоний-ион (по азоту)</td>\n",
       "      <td>мг/дм3</td>\n",
       "      <td>0.42</td>\n",
       "      <td>не более 1,5</td>\n",
       "      <td>Соответствует</td>\n",
       "    </tr>\n",
       "    <tr>\n",
       "      <th>5</th>\n",
       "      <td>Нитриты (по NO2)</td>\n",
       "      <td>мг/дм3</td>\n",
       "      <td>0.017</td>\n",
       "      <td>не более 3,3</td>\n",
       "      <td>Соответствует</td>\n",
       "    </tr>\n",
       "    <tr>\n",
       "      <th>6</th>\n",
       "      <td>Нитраты (по NO3)</td>\n",
       "      <td>мг/дм3</td>\n",
       "      <td>24</td>\n",
       "      <td>не более 45</td>\n",
       "      <td>Соответствует</td>\n",
       "    </tr>\n",
       "    <tr>\n",
       "      <th>7</th>\n",
       "      <td>Фосфаты (P)</td>\n",
       "      <td>мг/дм3</td>\n",
       "      <td>0.36</td>\n",
       "      <td>не более 3,5</td>\n",
       "      <td>Соответствует</td>\n",
       "    </tr>\n",
       "    <tr>\n",
       "      <th>8</th>\n",
       "      <td>Хлориды (Cl)</td>\n",
       "      <td>мг/дм3</td>\n",
       "      <td>200</td>\n",
       "      <td>не более 350</td>\n",
       "      <td>Соответствует</td>\n",
       "    </tr>\n",
       "    <tr>\n",
       "      <th>9</th>\n",
       "      <td>Сульфаты (SO4)</td>\n",
       "      <td>мг/дм3</td>\n",
       "      <td>189.5</td>\n",
       "      <td>не более 500</td>\n",
       "      <td>Соответствует</td>\n",
       "    </tr>\n",
       "    <tr>\n",
       "      <th>10</th>\n",
       "      <td>Железо (включая хлорное железо) по Fe</td>\n",
       "      <td>мг/дм3</td>\n",
       "      <td>0.019</td>\n",
       "      <td>не более 0,3</td>\n",
       "      <td>Соответствует</td>\n",
       "    </tr>\n",
       "    <tr>\n",
       "      <th>11</th>\n",
       "      <td>Нефть</td>\n",
       "      <td>мг/дм3</td>\n",
       "      <td>0.55</td>\n",
       "      <td>не более 0,3</td>\n",
       "      <td>-</td>\n",
       "    </tr>\n",
       "    <tr>\n",
       "      <th>12</th>\n",
       "      <td>Общая минерализация (сухой остаток)</td>\n",
       "      <td>мг/дм3</td>\n",
       "      <td>590</td>\n",
       "      <td>не более 1000</td>\n",
       "      <td>Соответствует</td>\n",
       "    </tr>\n",
       "    <tr>\n",
       "      <th>13</th>\n",
       "      <td>Окисляемость перманганатная</td>\n",
       "      <td>мг/дм3</td>\n",
       "      <td>2</td>\n",
       "      <td>не более 0,5</td>\n",
       "      <td>-</td>\n",
       "    </tr>\n",
       "  </tbody>\n",
       "</table>\n",
       "</div>"
      ],
      "text/plain": [
       "                               Показатель Единица измерений  \\\n",
       "0                                      pH        единицы pH   \n",
       "1                                   Запах             баллы   \n",
       "2                               Цветность           градусы   \n",
       "3                               Жёсткость       мг-эквл/дм3   \n",
       "4         Аммиак и аммоний-ион (по азоту)            мг/дм3   \n",
       "5                        Нитриты (по NO2)            мг/дм3   \n",
       "6                        Нитраты (по NO3)            мг/дм3   \n",
       "7                             Фосфаты (P)            мг/дм3   \n",
       "8                            Хлориды (Cl)            мг/дм3   \n",
       "9                          Сульфаты (SO4)            мг/дм3   \n",
       "10  Железо (включая хлорное железо) по Fe            мг/дм3   \n",
       "11                                  Нефть            мг/дм3   \n",
       "12    Общая минерализация (сухой остаток)            мг/дм3   \n",
       "13            Окисляемость перманганатная            мг/дм3   \n",
       "\n",
       "    Результат анализа         Норматив Соответствие нормативу  \n",
       "0                 8.4   в пределах 6-9          Соответствует  \n",
       "1                   1     не более 2-3          Соответствует  \n",
       "2             б/цвета      не более 30          Соответствует  \n",
       "3   9.199999999999999  в пределах 7-10          Соответствует  \n",
       "4                0.42     не более 1,5          Соответствует  \n",
       "5               0.017     не более 3,3          Соответствует  \n",
       "6                  24      не более 45          Соответствует  \n",
       "7                0.36     не более 3,5          Соответствует  \n",
       "8                 200     не более 350          Соответствует  \n",
       "9               189.5     не более 500          Соответствует  \n",
       "10              0.019     не более 0,3          Соответствует  \n",
       "11               0.55     не более 0,3                      -  \n",
       "12                590    не более 1000          Соответствует  \n",
       "13                  2     не более 0,5                      -  "
      ]
     },
     "execution_count": 197,
     "metadata": {},
     "output_type": "execute_result"
    }
   ],
   "source": [
    "df"
   ]
  },
  {
   "cell_type": "code",
   "execution_count": null,
   "id": "45050943",
   "metadata": {},
   "outputs": [],
   "source": []
  }
 ],
 "metadata": {
  "kernelspec": {
   "display_name": "Python 3 (ipykernel)",
   "language": "python",
   "name": "python3"
  },
  "language_info": {
   "codemirror_mode": {
    "name": "ipython",
    "version": 3
   },
   "file_extension": ".py",
   "mimetype": "text/x-python",
   "name": "python",
   "nbconvert_exporter": "python",
   "pygments_lexer": "ipython3",
   "version": "3.9.12"
  }
 },
 "nbformat": 4,
 "nbformat_minor": 5
}
